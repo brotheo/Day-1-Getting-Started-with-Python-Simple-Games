{
 "cells": [
  {
   "cell_type": "markdown",
   "id": "e3ea3147",
   "metadata": {},
   "source": [
    "# 🐍 Day 1 – Getting Started with Python & Simple Games\n",
    "\n",
    "---\n",
    "## ⏰ Hour 1: Python Basics\n",
    "🎯 **Goal: Understand the building blocks of Python programming.**"
   ]
  },
  {
   "cell_type": "markdown",
   "id": "afa7be4b",
   "metadata": {},
   "source": [
    "### ✅ What is Python? Why is it so popular?\n",
    "\n",
    "**Python** is a beginner-friendly, powerful programming language used in:\n",
    "- Web development 🌐\n",
    "- Data Science 📊\n",
    "- Game Development 🎮\n",
    "- Artificial Intelligence 🤖\n",
    "\n",
    "**Why Python?**\n",
    "- Easy to read and write\n",
    "- Tons of libraries and support\n",
    "- Used by Google, Netflix, NASA!"
   ]
  },
  {
   "cell_type": "markdown",
   "id": "015543e3",
   "metadata": {},
   "source": [
    "### 🖨️ The `print()` Function"
   ]
  },
  {
   "cell_type": "code",
   "execution_count": null,
   "id": "1b5c202e",
   "metadata": {},
   "outputs": [],
   "source": [
    "print(\"Hello, Python!\")"
   ]
  },
  {
   "cell_type": "markdown",
   "id": "dd03dcc6",
   "metadata": {},
   "source": [
    "### 📦 Variables and User Input"
   ]
  },
  {
   "cell_type": "code",
   "execution_count": null,
   "id": "468e6305",
   "metadata": {},
   "outputs": [],
   "source": [
    "name = input(\"What is your name? \")\n",
    "age = input(\"How old are you? \")\n",
    "print(\"Hello \" + name + \"! You are \" + age + \" years old.\")"
   ]
  },
  {
   "cell_type": "markdown",
   "id": "62c61e07",
   "metadata": {},
   "source": [
    "### 🔢 Data Types"
   ]
  },
  {
   "cell_type": "code",
   "execution_count": null,
   "id": "9f780d5b",
   "metadata": {},
   "outputs": [],
   "source": [
    "age = 13\n",
    "height = 1.65\n",
    "name = \"Viran\"\n",
    "is_student = True\n",
    "\n",
    "print(type(age), type(height), type(name), type(is_student))"
   ]
  },
  {
   "cell_type": "markdown",
   "id": "cf49a411",
   "metadata": {},
   "source": [
    "### ➕ Simple Math in Python"
   ]
  },
  {
   "cell_type": "code",
   "execution_count": null,
   "id": "2971d56c",
   "metadata": {},
   "outputs": [],
   "source": [
    "num1 = 10\n",
    "num2 = 5\n",
    "\n",
    "print(\"Sum:\", num1 + num2)\n",
    "print(\"Difference:\", num1 - num2)\n",
    "print(\"Product:\", num1 * num2)\n",
    "print(\"Divide:\", num1 / num2)\n",
    "print(\"Power:\", num1 ** 2)"
   ]
  },
  {
   "cell_type": "markdown",
   "id": "1e7c18e9",
   "metadata": {},
   "source": [
    "---\n",
    "## ⏰ Hour 2: Logic and Loops\n",
    "🎯 **Goal: Learn how to make decisions and repeat actions in Python.**"
   ]
  },
  {
   "cell_type": "markdown",
   "id": "ca08788d",
   "metadata": {},
   "source": [
    "### 🔀 If-Else Statements"
   ]
  },
  {
   "cell_type": "code",
   "execution_count": null,
   "id": "0a51dcd6",
   "metadata": {},
   "outputs": [],
   "source": [
    "age = int(input(\"Enter your age: \"))\n",
    "if age >= 18:\n",
    "    print(\"You're an adult!\")\n",
    "else:\n",
    "    print(\"You're a minor.\")"
   ]
  },
  {
   "cell_type": "markdown",
   "id": "a584ae02",
   "metadata": {},
   "source": [
    "### 🤝 Comparison and Logical Operators"
   ]
  },
  {
   "cell_type": "code",
   "execution_count": null,
   "id": "bb16a0db",
   "metadata": {},
   "outputs": [],
   "source": [
    "x = 10\n",
    "y = 5\n",
    "\n",
    "print(\"x == y?\", x == y)\n",
    "print(\"x > y and y < 10?\", x > y and y < 10)\n",
    "print(\"x < 15 or y == 3?\", x < 15 or y == 3)\n",
    "print(\"not x == 10?\", not x == 10)"
   ]
  },
  {
   "cell_type": "markdown",
   "id": "72a42634",
   "metadata": {},
   "source": [
    "### 🔁 While Loop"
   ]
  },
  {
   "cell_type": "code",
   "execution_count": null,
   "id": "7830614b",
   "metadata": {},
   "outputs": [],
   "source": [
    "count = 1\n",
    "while count <= 5:\n",
    "    print(\"Count is\", count)\n",
    "    count += 1"
   ]
  },
  {
   "cell_type": "markdown",
   "id": "c750802a",
   "metadata": {},
   "source": [
    "### 🔁 For Loop"
   ]
  },
  {
   "cell_type": "code",
   "execution_count": null,
   "id": "a9f22470",
   "metadata": {},
   "outputs": [],
   "source": [
    "for i in range(1, 6):\n",
    "    print(\"Looping:\", i)"
   ]
  },
  {
   "cell_type": "markdown",
   "id": "856b94f7",
   "metadata": {},
   "source": [
    "### 🧩 Your First Function"
   ]
  },
  {
   "cell_type": "code",
   "execution_count": null,
   "id": "913b94d4",
   "metadata": {},
   "outputs": [],
   "source": [
    "def greet(name):\n",
    "    print(\"Hello, \" + name + \"!\")\n",
    "\n",
    "greet(\"Viran\")"
   ]
  },
  {
   "cell_type": "markdown",
   "id": "687a7631",
   "metadata": {},
   "source": [
    "---\n",
    "## ⏰ Hour 3: Your First Python Game\n",
    "🎯 **Goal: Build your very first game using everything you've learned.**"
   ]
  },
  {
   "cell_type": "markdown",
   "id": "ebc1fdf4",
   "metadata": {},
   "source": [
    "### 🎮 Guess the Number Game\n",
    "\n",
    "**Instructions:**\n",
    "- Use `random` to pick a secret number\n",
    "- Let the user guess until they get it right\n",
    "- Give helpful hints"
   ]
  },
  {
   "cell_type": "code",
   "execution_count": null,
   "id": "0f9b8fc5",
   "metadata": {},
   "outputs": [],
   "source": [
    "import random\n",
    "\n",
    "secret_number = random.randint(1, 20)\n",
    "guess = None\n",
    "tries = 0\n",
    "\n",
    "print(\"🎲 I'm thinking of a number between 1 and 20. Can you guess it?\")\n",
    "\n",
    "while guess != secret_number:\n",
    "    guess = int(input(\"Enter your guess: \"))\n",
    "    tries += 1\n",
    "    if guess < secret_number:\n",
    "        print(\"Too low! Try again.\")\n",
    "    elif guess > secret_number:\n",
    "        print(\"Too high! Try again.\")\n",
    "    else:\n",
    "        print(\"🎉 Congratulations! You guessed it in\", tries, \"tries.\")"
   ]
  }
 ],
 "metadata": {
  "kernelspec": {
   "display_name": "Python 3",
   "language": "python",
   "name": "python3"
  }
 },
 "nbformat": 4,
 "nbformat_minor": 5
}
